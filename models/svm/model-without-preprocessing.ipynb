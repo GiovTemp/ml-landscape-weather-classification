{
 "cells": [
  {
   "cell_type": "code",
   "execution_count": 1,
   "metadata": {},
   "outputs": [
    {
     "ename": "ValueError",
     "evalue": "the input array must have size 3 along `channel_axis`, got (453, 640)",
     "output_type": "error",
     "traceback": [
      "\u001b[1;31m---------------------------------------------------------------------------\u001b[0m",
      "\u001b[1;31mValueError\u001b[0m                                Traceback (most recent call last)",
      "Cell \u001b[1;32mIn[1], line 24\u001b[0m\n\u001b[0;32m     22\u001b[0m \u001b[39mfor\u001b[39;00m img_file \u001b[39min\u001b[39;00m os\u001b[39m.\u001b[39mlistdir(train_dir \u001b[39m+\u001b[39m \u001b[39mcls\u001b[39m):\n\u001b[0;32m     23\u001b[0m     img \u001b[39m=\u001b[39m io\u001b[39m.\u001b[39mimread(train_dir \u001b[39m+\u001b[39m \u001b[39mcls\u001b[39m \u001b[39m+\u001b[39m \u001b[39m'\u001b[39m\u001b[39m/\u001b[39m\u001b[39m'\u001b[39m \u001b[39m+\u001b[39m img_file)\n\u001b[1;32m---> 24\u001b[0m     img_gray \u001b[39m=\u001b[39m rgb2gray(img)\n\u001b[0;32m     25\u001b[0m     img_resized \u001b[39m=\u001b[39m resize(img_gray, (\u001b[39m64\u001b[39m, \u001b[39m64\u001b[39m), anti_aliasing\u001b[39m=\u001b[39m\u001b[39mTrue\u001b[39;00m)\n\u001b[0;32m     26\u001b[0m     X_train\u001b[39m.\u001b[39mappend(img_resized\u001b[39m.\u001b[39mflatten())\n",
      "File \u001b[1;32mc:\\Users\\giovt\\AppData\\Local\\Programs\\Python\\Python311\\Lib\\site-packages\\skimage\\_shared\\utils.py:326\u001b[0m, in \u001b[0;36mchannel_as_last_axis.__call__.<locals>.fixed_func\u001b[1;34m(*args, **kwargs)\u001b[0m\n\u001b[0;32m    323\u001b[0m channel_axis \u001b[39m=\u001b[39m kwargs\u001b[39m.\u001b[39mget(\u001b[39m'\u001b[39m\u001b[39mchannel_axis\u001b[39m\u001b[39m'\u001b[39m, \u001b[39mNone\u001b[39;00m)\n\u001b[0;32m    325\u001b[0m \u001b[39mif\u001b[39;00m channel_axis \u001b[39mis\u001b[39;00m \u001b[39mNone\u001b[39;00m:\n\u001b[1;32m--> 326\u001b[0m     \u001b[39mreturn\u001b[39;00m func(\u001b[39m*\u001b[39;49margs, \u001b[39m*\u001b[39;49m\u001b[39m*\u001b[39;49mkwargs)\n\u001b[0;32m    328\u001b[0m \u001b[39m# TODO: convert scalars to a tuple in anticipation of eventually\u001b[39;00m\n\u001b[0;32m    329\u001b[0m \u001b[39m#       supporting a tuple of channel axes. Right now, only an\u001b[39;00m\n\u001b[0;32m    330\u001b[0m \u001b[39m#       integer or a single-element tuple is supported, though.\u001b[39;00m\n\u001b[0;32m    331\u001b[0m \u001b[39mif\u001b[39;00m np\u001b[39m.\u001b[39misscalar(channel_axis):\n",
      "File \u001b[1;32mc:\\Users\\giovt\\AppData\\Local\\Programs\\Python\\Python311\\Lib\\site-packages\\skimage\\color\\colorconv.py:875\u001b[0m, in \u001b[0;36mrgb2gray\u001b[1;34m(rgb, channel_axis)\u001b[0m\n\u001b[0;32m    834\u001b[0m \u001b[39m@channel_as_last_axis\u001b[39m(multichannel_output\u001b[39m=\u001b[39m\u001b[39mFalse\u001b[39;00m)\n\u001b[0;32m    835\u001b[0m \u001b[39mdef\u001b[39;00m \u001b[39mrgb2gray\u001b[39m(rgb, \u001b[39m*\u001b[39m, channel_axis\u001b[39m=\u001b[39m\u001b[39m-\u001b[39m\u001b[39m1\u001b[39m):\n\u001b[0;32m    836\u001b[0m \u001b[39m    \u001b[39m\u001b[39m\"\"\"Compute luminance of an RGB image.\u001b[39;00m\n\u001b[0;32m    837\u001b[0m \n\u001b[0;32m    838\u001b[0m \u001b[39m    Parameters\u001b[39;00m\n\u001b[1;32m   (...)\u001b[0m\n\u001b[0;32m    873\u001b[0m \u001b[39m    >>> img_gray = rgb2gray(img)\u001b[39;00m\n\u001b[0;32m    874\u001b[0m \u001b[39m    \"\"\"\u001b[39;00m\n\u001b[1;32m--> 875\u001b[0m     rgb \u001b[39m=\u001b[39m _prepare_colorarray(rgb)\n\u001b[0;32m    876\u001b[0m     coeffs \u001b[39m=\u001b[39m np\u001b[39m.\u001b[39marray([\u001b[39m0.2125\u001b[39m, \u001b[39m0.7154\u001b[39m, \u001b[39m0.0721\u001b[39m], dtype\u001b[39m=\u001b[39mrgb\u001b[39m.\u001b[39mdtype)\n\u001b[0;32m    877\u001b[0m     \u001b[39mreturn\u001b[39;00m rgb \u001b[39m@\u001b[39m coeffs\n",
      "File \u001b[1;32mc:\\Users\\giovt\\AppData\\Local\\Programs\\Python\\Python311\\Lib\\site-packages\\skimage\\color\\colorconv.py:140\u001b[0m, in \u001b[0;36m_prepare_colorarray\u001b[1;34m(arr, force_copy, channel_axis)\u001b[0m\n\u001b[0;32m    137\u001b[0m \u001b[39mif\u001b[39;00m arr\u001b[39m.\u001b[39mshape[channel_axis] \u001b[39m!=\u001b[39m \u001b[39m3\u001b[39m:\n\u001b[0;32m    138\u001b[0m     msg \u001b[39m=\u001b[39m (\u001b[39mf\u001b[39m\u001b[39m'\u001b[39m\u001b[39mthe input array must have size 3 along `channel_axis`, \u001b[39m\u001b[39m'\u001b[39m\n\u001b[0;32m    139\u001b[0m            \u001b[39mf\u001b[39m\u001b[39m'\u001b[39m\u001b[39mgot \u001b[39m\u001b[39m{\u001b[39;00marr\u001b[39m.\u001b[39mshape\u001b[39m}\u001b[39;00m\u001b[39m'\u001b[39m)\n\u001b[1;32m--> 140\u001b[0m     \u001b[39mraise\u001b[39;00m \u001b[39mValueError\u001b[39;00m(msg)\n\u001b[0;32m    142\u001b[0m float_dtype \u001b[39m=\u001b[39m _supported_float_type(arr\u001b[39m.\u001b[39mdtype)\n\u001b[0;32m    143\u001b[0m \u001b[39mif\u001b[39;00m float_dtype \u001b[39m==\u001b[39m np\u001b[39m.\u001b[39mfloat32:\n",
      "\u001b[1;31mValueError\u001b[0m: the input array must have size 3 along `channel_axis`, got (453, 640)"
     ]
    }
   ],
   "source": [
    "import os\n",
    "import numpy as np\n",
    "from sklearn import svm\n",
    "from sklearn.metrics import accuracy_score\n",
    "from sklearn.model_selection import train_test_split\n",
    "from skimage import io\n",
    "from skimage.color import rgb2gray\n",
    "from skimage.transform import resize\n",
    "\n",
    "# Definisci le cartelle contenenti le immagini di training e test\n",
    "train_dir = '../../dataset_train/'\n",
    "test_dir = '../../dataset_test_preprocessed/'\n",
    "\n",
    "# Definisci le classi e l'etichetta numerica corrispondente\n",
    "classes = ['cloudy', 'rain', 'shine', 'sunrise']\n",
    "label_dict = {i: classes[i] for i in range(len(classes))}\n",
    "\n",
    "# Carica le immagini di training\n",
    "X_train = []\n",
    "y_train = []\n",
    "for i, cls in enumerate(classes):\n",
    "    for img_file in os.listdir(train_dir + cls):\n",
    "        img = io.imread(train_dir + cls + '/' + img_file)\n",
    "        img_gray = rgb2gray(img)\n",
    "        img_resized = resize(img_gray, (64, 64), anti_aliasing=True)\n",
    "        X_train.append(img_resized.flatten())\n",
    "        y_train.append(i)\n",
    "\n",
    "# Dividi il dataset di training in un subset di training e un subset di validazione\n",
    "X_train, X_val, y_train, y_val = train_test_split(X_train, y_train, test_size=0.2, random_state=42)\n",
    "\n",
    "# Addestra un modello SVM lineare\n",
    "clf = svm.SVC(kernel='linear', C=1.0)\n",
    "clf.fit(X_train, y_train)\n",
    "\n",
    "# Valuta le prestazioni del modello sul dataset di validazione\n",
    "y_pred = clf.predict(X_val)\n",
    "accuracy = accuracy_score(y_val, y_pred)\n",
    "print(f\"Accuracy on validation set: {accuracy:.4f}\")\n",
    "\n",
    "# Carica le immagini di test\n",
    "X_test = []\n",
    "for img_file in os.listdir(test_dir):\n",
    "    img = io.imread(test_dir + img_file)\n",
    "    img_gray = rgb2gray(img)\n",
    "    img_resized = resize(img_gray, (64, 64), anti_aliasing=True)\n",
    "    X_test.append(img_resized.flatten())\n",
    "\n",
    "# Fai le previsioni sul dataset di test\n",
    "y_test = clf.predict(X_test)\n",
    "\n",
    "# Stampa le previsioni per le immagini del dataset di test\n",
    "for i, y in enumerate(y_test):\n",
    "    print(f\"{test_dir}/{os.listdir(test_dir)[i]}: {label_dict[y]}\")\n"
   ]
  }
 ],
 "metadata": {
  "kernelspec": {
   "display_name": "Python 3",
   "language": "python",
   "name": "python3"
  },
  "language_info": {
   "codemirror_mode": {
    "name": "ipython",
    "version": 3
   },
   "file_extension": ".py",
   "mimetype": "text/x-python",
   "name": "python",
   "nbconvert_exporter": "python",
   "pygments_lexer": "ipython3",
   "version": "3.11.2"
  },
  "orig_nbformat": 4
 },
 "nbformat": 4,
 "nbformat_minor": 2
}
