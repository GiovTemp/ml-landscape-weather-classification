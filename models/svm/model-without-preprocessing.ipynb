{
 "cells": [
  {
   "cell_type": "code",
   "execution_count": 4,
   "metadata": {},
   "outputs": [
    {
     "name": "stdout",
     "output_type": "stream",
     "text": [
      "Accuracy on validation set: 0.8222\n",
      "Accuracy on validation set: 0.8222\n",
      "Precision on validation set: 0.8232\n",
      "Recall on validation set: 0.8222\n",
      "F1-score on validation set: 0.8223\n"
     ]
    },
    {
     "data": {
      "image/png": "[encoded data removed]",
      "text/plain": [
       "<Figure size 800x600 with 1 Axes>"
      ]
     },
     "metadata": {},
     "output_type": "display_data"
    },
    {
     "name": "stdout",
     "output_type": "stream",
     "text": [
      "Classification Report:\n",
      "              precision    recall  f1-score   support\n",
      "\n",
      "      cloudy       0.73      0.73      0.73        49\n",
      "        rain       0.78      0.74      0.76        39\n",
      "       shine       0.79      0.85      0.81        39\n",
      "     sunrise       0.96      0.94      0.95        53\n",
      "\n",
      "    accuracy                           0.82       180\n",
      "   macro avg       0.82      0.82      0.82       180\n",
      "weighted avg       0.82      0.82      0.82       180\n",
      "\n"
     ]
    }
   ],
   "source": [
    "import os\n",
    "import numpy as np\n",
    "from sklearn import svm\n",
    "from sklearn.metrics import accuracy_score, precision_score, recall_score, f1_score , classification_report, confusion_matrix\n",
    "from sklearn.model_selection import train_test_split\n",
    "import seaborn as sns\n",
    "import cv2\n",
    "import matplotlib.pyplot as plt\n",
    "\n",
    "# Definisci le cartelle contenenti le immagini di training e test\n",
    "train_dir = '../../datasets/dataset2/train/'\n",
    "test_dir = '../../datasets/dataset2/test/'\n",
    "\n",
    "# Definisci le classi e l'etichetta numerica corrispondente\n",
    "classes = ['cloudy', 'rain', 'shine', 'sunrise']\n",
    "label_dict = {i: classes[i] for i in range(len(classes))}\n",
    "\n",
    "# Carica le immagini di training\n",
    "X_train = []\n",
    "y_train = []\n",
    "for i, cls in enumerate(classes):\n",
    "    for img_file in os.listdir(train_dir + cls):\n",
    "        img = cv2.imread(os.path.join(train_dir + cls + '/' + img_file))\n",
    "        if img is not None:\n",
    "            img_resized = cv2.resize(img, (64, 64))\n",
    "            X_train.append(img_resized.flatten())\n",
    "            y_train.append(i)\n",
    "\n",
    "# Dividi il dataset di training in un subset di training e un subset di validazione\n",
    "X_train, X_val, y_train, y_val = train_test_split(X_train, y_train, test_size=0.2, random_state=42)\n",
    "\n",
    "# Reshape the input data to have the appropriate dimensions\n",
    "X_train = np.array(X_train).reshape(-1, 64*64*3)\n",
    "X_val = np.array(X_val).reshape(-1, 64*64*3)\n",
    "\n",
    "\n",
    "# Addestra un modello SVM lineare\n",
    "clf = svm.SVC(kernel='linear', C=1.0)\n",
    "clf.fit(X_train, y_train)\n",
    "\n",
    "# Valuta le prestazioni del modello sul dataset di validazione\n",
    "y_pred = clf.predict(X_val)\n",
    "accuracy = accuracy_score(y_val, y_pred)\n",
    "print(f\"Accuracy on validation set: {accuracy:.4f}\")\n",
    "\n",
    "# Carica le immagini di test\n",
    "X_test = []\n",
    "for i, cls in enumerate(classes):\n",
    "    for img_file in os.listdir(test_dir + cls):\n",
    "        img = cv2.imread(os.path.join(test_dir + cls + '/' + img_file))\n",
    "        if img is not None:\n",
    "            img_resized = cv2.resize(img, (64, 64))\n",
    "            X_test.append(img_resized.flatten())\n",
    "\n",
    "\n",
    "# Fai le previsioni sul dataset di test\n",
    "y_test = clf.predict(X_test)\n",
    "\n",
    "# Calculate evaluation metrics\n",
    "accuracy = accuracy_score(y_val, y_pred)\n",
    "precision = precision_score(y_val, y_pred, average='weighted')\n",
    "recall = recall_score(y_val, y_pred, average='weighted')\n",
    "f1 = f1_score(y_val, y_pred, average='weighted')\n",
    "\n",
    "# Print evaluation metrics\n",
    "print(f\"Accuracy on validation set: {accuracy:.4f}\")\n",
    "print(f\"Precision on validation set: {precision:.4f}\")\n",
    "print(f\"Recall on validation set: {recall:.4f}\")\n",
    "print(f\"F1-score on validation set: {f1:.4f}\")\n",
    "\n",
    "# Create a confusion matrix\n",
    "cm = confusion_matrix(y_val, y_pred)\n",
    "\n",
    "# Plot the confusion matrix\n",
    "plt.figure(figsize=(8, 6))\n",
    "sns.heatmap(cm, annot=True, fmt='d', cmap='Blues', cbar=False)\n",
    "plt.title('Confusion Matrix')\n",
    "plt.xlabel('Predicted')\n",
    "plt.ylabel('True')\n",
    "plt.show()\n",
    "\n",
    "# Generate a classification report\n",
    "class_names = list(label_dict.values())\n",
    "report = classification_report(y_val, y_pred, target_names=class_names)\n",
    "\n",
    "# Print the classification report\n",
    "print('Classification Report:')\n",
    "print(report)\n"
   ]
  }
 ],
 "metadata": {
  "kernelspec": {
   "display_name": "Python 3",
   "language": "python",
   "name": "python3"
  },
  "language_info": {
   "codemirror_mode": {
    "name": "ipython",
    "version": 3
   },
   "file_extension": ".py",
   "mimetype": "text/x-python",
   "name": "python",
   "nbconvert_exporter": "python",
   "pygments_lexer": "ipython3",
   "version": "3.10.10"
  },
  "orig_nbformat": 4
 },
 "nbformat": 4,
 "nbformat_minor": 2
}
