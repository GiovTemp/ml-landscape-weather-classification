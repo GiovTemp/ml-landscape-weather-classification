{
 "cells": [
  {
   "cell_type": "code",
   "execution_count": 2,
   "metadata": {},
   "outputs": [
    {
     "name": "stdout",
     "output_type": "stream",
     "text": [
      "Found 1123 images belonging to 4 classes.\n",
      "Found 134 images belonging to 4 classes.\n"
     ]
    },
    {
     "name": "stderr",
     "output_type": "stream",
     "text": [
      "WARNING:absl:`lr` is deprecated in Keras optimizer, please use `learning_rate` or use the legacy optimizer, e.g.,tf.keras.optimizers.legacy.Adam.\n"
     ]
    },
    {
     "name": "stdout",
     "output_type": "stream",
     "text": [
      "Epoch 1/10\n",
      "35/35 [==============================] - 60s 2s/step - loss: 163.9588 - accuracy: 0.3286 - val_loss: 1.3870 - val_accuracy: 0.2313\n",
      "Epoch 2/10\n",
      "35/35 [==============================] - 57s 2s/step - loss: 1.0193 - accuracy: 0.5637 - val_loss: 1.3894 - val_accuracy: 0.2313\n",
      "Epoch 3/10\n",
      "35/35 [==============================] - 57s 2s/step - loss: 0.3598 - accuracy: 0.8736 - val_loss: 1.3885 - val_accuracy: 0.2313\n",
      "Epoch 4/10\n",
      "35/35 [==============================] - 57s 2s/step - loss: 0.0762 - accuracy: 0.9733 - val_loss: 1.3864 - val_accuracy: 0.2313\n",
      "Epoch 5/10\n",
      "35/35 [==============================] - 57s 2s/step - loss: 0.0347 - accuracy: 0.9893 - val_loss: 1.3864 - val_accuracy: 0.2313\n",
      "Epoch 6/10\n",
      "35/35 [==============================] - 59s 2s/step - loss: 0.0132 - accuracy: 0.9964 - val_loss: 1.3860 - val_accuracy: 0.2313\n",
      "Epoch 7/10\n",
      "35/35 [==============================] - 57s 2s/step - loss: 0.0067 - accuracy: 0.9991 - val_loss: 1.3843 - val_accuracy: 0.2313\n",
      "Epoch 8/10\n",
      "35/35 [==============================] - 56s 2s/step - loss: 0.0079 - accuracy: 0.9982 - val_loss: 1.3832 - val_accuracy: 0.2313\n",
      "Epoch 9/10\n",
      "35/35 [==============================] - 56s 2s/step - loss: 0.0057 - accuracy: 0.9973 - val_loss: 1.3833 - val_accuracy: 0.2313\n",
      "Epoch 10/10\n",
      "35/35 [==============================] - 56s 2s/step - loss: 0.0015 - accuracy: 1.0000 - val_loss: 1.3825 - val_accuracy: 0.2313\n",
      "134/134 [==============================] - 5s 34ms/step - loss: 1.3825 - accuracy: 0.2313\n",
      "Test accuracy: 0.23134328424930573\n"
     ]
    }
   ],
   "source": [
    "import os\n",
    "import numpy as np\n",
    "from tensorflow.keras.preprocessing.image import ImageDataGenerator\n",
    "from tensorflow.keras.models import Sequential\n",
    "from tensorflow.keras.layers import Conv2D, MaxPooling2D, Flatten, Dense, Dropout\n",
    "from tensorflow.keras.optimizers import Adam\n",
    "\n",
    "train_dir = '../../dataset_train_preprocessed'\n",
    "test_dir = '../../dataset_test_preprocessed'\n",
    "batch_size = 32\n",
    "img_height, img_width = 256, 256\n",
    "input_shape = (img_height, img_width, 3)\n",
    "\n",
    "# Define the data generators for training and testing\n",
    "train_datagen = ImageDataGenerator()\n",
    "\n",
    "test_datagen = ImageDataGenerator()\n",
    "\n",
    "train_generator = train_datagen.flow_from_directory(\n",
    "        train_dir, # path to the training dataset\n",
    "        target_size=(img_height, img_width), # resize images to this size\n",
    "        batch_size=batch_size,\n",
    "        class_mode='categorical') # output class labels as one-hot vectors\n",
    "\n",
    "test_generator = test_datagen.flow_from_directory(\n",
    "        test_dir,  # path to the testing dataset\n",
    "        target_size=(img_height, img_width),\n",
    "        batch_size=1, # batch size of 1 to test one image at a time\n",
    "        class_mode='categorical')\n",
    "\n",
    "# Define the model architecture\n",
    "model = Sequential()\n",
    "\n",
    "model.add(Conv2D(32, (3, 3), activation='relu', input_shape=input_shape))\n",
    "model.add(MaxPooling2D((2, 2)))\n",
    "model.add(Conv2D(64, (3, 3), activation='relu'))\n",
    "model.add(MaxPooling2D((2, 2)))\n",
    "model.add(Conv2D(128, (3, 3), activation='relu'))\n",
    "model.add(MaxPooling2D((2, 2)))\n",
    "model.add(Flatten())\n",
    "model.add(Dense(512, activation='relu'))\n",
    "model.add(Dropout(0.5))\n",
    "model.add(Dense(4, activation='softmax'))\n",
    "\n",
    "# Compile the model\n",
    "model.compile(loss='categorical_crossentropy',\n",
    "              optimizer=Adam(lr=1e-4),\n",
    "              metrics=['accuracy'])\n",
    "\n",
    "# Train the model\n",
    "history = model.fit(\n",
    "      train_generator,\n",
    "      steps_per_epoch=train_generator.samples/train_generator.batch_size,\n",
    "      epochs=10,\n",
    "      validation_data=test_generator,\n",
    "      validation_steps=test_generator.samples/test_generator.batch_size)\n",
    "\n",
    "# Evaluate the model on the test set\n",
    "test_loss, test_acc = model.evaluate(test_generator, steps=test_generator.samples/test_generator.batch_size)\n",
    "print('Test accuracy:', test_acc)\n"
   ]
  }
 ],
 "metadata": {
  "kernelspec": {
   "display_name": "Python 3",
   "language": "python",
   "name": "python3"
  },
  "language_info": {
   "codemirror_mode": {
    "name": "ipython",
    "version": 3
   },
   "file_extension": ".py",
   "mimetype": "text/x-python",
   "name": "python",
   "nbconvert_exporter": "python",
   "pygments_lexer": "ipython3",
   "version": "3.11.2"
  },
  "orig_nbformat": 4
 },
 "nbformat": 4,
 "nbformat_minor": 2
}
