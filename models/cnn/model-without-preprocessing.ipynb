{
 "cells": [
  {
   "cell_type": "code",
   "execution_count": 1,
   "metadata": {},
   "outputs": [
    {
     "name": "stdout",
     "output_type": "stream",
     "text": [
      "Found 1123 images belonging to 4 classes.\n",
      "Found 134 images belonging to 4 classes.\n"
     ]
    },
    {
     "name": "stderr",
     "output_type": "stream",
     "text": [
      "WARNING:absl:`lr` is deprecated in Keras optimizer, please use `learning_rate` or use the legacy optimizer, e.g.,tf.keras.optimizers.legacy.Adam.\n"
     ]
    },
    {
     "name": "stdout",
     "output_type": "stream",
     "text": [
      "Epoch 1/10\n",
      "35/35 [==============================] - 52s 1s/step - loss: 1.0493 - accuracy: 0.6180 - val_loss: 0.6011 - val_accuracy: 0.7836\n",
      "Epoch 2/10\n",
      "35/35 [==============================] - 51s 1s/step - loss: 0.5629 - accuracy: 0.7970 - val_loss: 0.4286 - val_accuracy: 0.8955\n",
      "Epoch 3/10\n",
      "35/35 [==============================] - 51s 1s/step - loss: 0.3832 - accuracy: 0.8540 - val_loss: 0.2968 - val_accuracy: 0.9254\n",
      "Epoch 4/10\n",
      "35/35 [==============================] - 53s 2s/step - loss: 0.3043 - accuracy: 0.9029 - val_loss: 0.2730 - val_accuracy: 0.9179\n",
      "Epoch 5/10\n",
      "35/35 [==============================] - 51s 1s/step - loss: 0.2678 - accuracy: 0.8994 - val_loss: 0.2675 - val_accuracy: 0.8881\n",
      "Epoch 6/10\n",
      "35/35 [==============================] - 51s 1s/step - loss: 0.1934 - accuracy: 0.9261 - val_loss: 0.1223 - val_accuracy: 0.9701\n",
      "Epoch 7/10\n",
      "35/35 [==============================] - 51s 1s/step - loss: 0.1977 - accuracy: 0.9252 - val_loss: 0.5571 - val_accuracy: 0.7910\n",
      "Epoch 8/10\n",
      "35/35 [==============================] - 52s 1s/step - loss: 0.2243 - accuracy: 0.9234 - val_loss: 0.1343 - val_accuracy: 0.9627\n",
      "Epoch 9/10\n",
      "35/35 [==============================] - 53s 2s/step - loss: 0.1480 - accuracy: 0.9386 - val_loss: 0.1227 - val_accuracy: 0.9403\n",
      "Epoch 10/10\n",
      "35/35 [==============================] - 54s 2s/step - loss: 0.1636 - accuracy: 0.9457 - val_loss: 0.2915 - val_accuracy: 0.9030\n",
      "134/134 [==============================] - 4s 32ms/step - loss: 0.2915 - accuracy: 0.9030\n",
      "Test accuracy: 0.9029850959777832\n"
     ]
    }
   ],
   "source": [
    "import os\n",
    "import numpy as np\n",
    "from tensorflow.keras.preprocessing.image import ImageDataGenerator\n",
    "from tensorflow.keras.models import Sequential\n",
    "from tensorflow.keras.layers import Conv2D, MaxPooling2D, Flatten, Dense, Dropout\n",
    "from tensorflow.keras.optimizers import Adam\n",
    "\n",
    "train_dir = '../../dataset_train'\n",
    "test_dir = '../../dataset_test'\n",
    "batch_size = 32\n",
    "img_height, img_width = 256, 256\n",
    "input_shape = (img_height, img_width, 3)\n",
    "\n",
    "# Define the data generators for training and testing\n",
    "train_datagen = ImageDataGenerator(rescale=1./255)\n",
    "\n",
    "test_datagen = ImageDataGenerator(rescale=1./255)\n",
    "\n",
    "train_generator = train_datagen.flow_from_directory(\n",
    "        train_dir, # path to the training dataset\n",
    "        target_size=(img_height, img_width), # resize images to this size\n",
    "        batch_size=batch_size,\n",
    "        class_mode='categorical') # output class labels as one-hot vectors\n",
    "\n",
    "test_generator = test_datagen.flow_from_directory(\n",
    "        test_dir,  # path to the testing dataset\n",
    "        target_size=(img_height, img_width),\n",
    "        batch_size=1, # batch size of 1 to test one image at a time\n",
    "        class_mode='categorical')\n",
    "\n",
    "# Define the model architecture\n",
    "model = Sequential()\n",
    "\n",
    "model.add(Conv2D(32, (3, 3), activation='relu', input_shape=input_shape))\n",
    "model.add(MaxPooling2D((2, 2)))\n",
    "model.add(Conv2D(64, (3, 3), activation='relu'))\n",
    "model.add(MaxPooling2D((2, 2)))\n",
    "model.add(Conv2D(128, (3, 3), activation='relu'))\n",
    "model.add(MaxPooling2D((2, 2)))\n",
    "model.add(Flatten())\n",
    "model.add(Dense(512, activation='relu'))\n",
    "model.add(Dropout(0.5))\n",
    "model.add(Dense(4, activation='softmax'))\n",
    "\n",
    "# Compile the model\n",
    "model.compile(loss='categorical_crossentropy',\n",
    "              optimizer=Adam(lr=1e-4),\n",
    "              metrics=['accuracy'])\n",
    "\n",
    "# Train the model\n",
    "history = model.fit(\n",
    "      train_generator,\n",
    "      steps_per_epoch=train_generator.samples/train_generator.batch_size,\n",
    "      epochs=10,\n",
    "      validation_data=test_generator,\n",
    "      validation_steps=test_generator.samples/test_generator.batch_size)\n",
    "\n",
    "# Evaluate the model on the test set\n",
    "test_loss, test_acc = model.evaluate(test_generator, steps=test_generator.samples/test_generator.batch_size)\n",
    "print('Test accuracy:', test_acc)\n"
   ]
  }
 ],
 "metadata": {
  "kernelspec": {
   "display_name": "Python 3",
   "language": "python",
   "name": "python3"
  },
  "language_info": {
   "codemirror_mode": {
    "name": "ipython",
    "version": 3
   },
   "file_extension": ".py",
   "mimetype": "text/x-python",
   "name": "python",
   "nbconvert_exporter": "python",
   "pygments_lexer": "ipython3",
   "version": "3.11.2"
  },
  "orig_nbformat": 4
 },
 "nbformat": 4,
 "nbformat_minor": 2
}
