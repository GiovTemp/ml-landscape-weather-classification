{
 "cells": [
  {
   "cell_type": "code",
   "execution_count": 6,
   "metadata": {},
   "outputs": [
    {
     "name": "stdout",
     "output_type": "stream",
     "text": [
      "Found 899 images belonging to 4 classes.\n",
      "Found 224 images belonging to 4 classes.\n"
     ]
    },
    {
     "name": "stderr",
     "output_type": "stream",
     "text": [
      "WARNING:absl:`lr` is deprecated in Keras optimizer, please use `learning_rate` or use the legacy optimizer, e.g.,tf.keras.optimizers.legacy.Adam.\n"
     ]
    },
    {
     "name": "stdout",
     "output_type": "stream",
     "text": [
      "Epoch 1/10\n",
      "112/112 [==============================] - 6s 48ms/step - loss: 0.7957 - accuracy: 0.6496 - val_loss: 0.7380 - val_accuracy: 0.7411\n",
      "Epoch 2/10\n",
      "112/112 [==============================] - 5s 47ms/step - loss: 0.5967 - accuracy: 0.7608 - val_loss: 0.5354 - val_accuracy: 0.7991\n",
      "Epoch 3/10\n",
      "112/112 [==============================] - 5s 46ms/step - loss: 0.4742 - accuracy: 0.8343 - val_loss: 0.4257 - val_accuracy: 0.8750\n",
      "Epoch 4/10\n",
      "112/112 [==============================] - 5s 47ms/step - loss: 0.3973 - accuracy: 0.8487 - val_loss: 0.4130 - val_accuracy: 0.8661\n",
      "Epoch 5/10\n",
      "112/112 [==============================] - 5s 47ms/step - loss: 0.3444 - accuracy: 0.8799 - val_loss: 0.4078 - val_accuracy: 0.8616\n",
      "Epoch 6/10\n",
      "112/112 [==============================] - 5s 47ms/step - loss: 0.3417 - accuracy: 0.8799 - val_loss: 0.5423 - val_accuracy: 0.8036\n",
      "Epoch 7/10\n",
      "112/112 [==============================] - 5s 47ms/step - loss: 0.3047 - accuracy: 0.8910 - val_loss: 0.3757 - val_accuracy: 0.9152\n",
      "Epoch 8/10\n",
      "112/112 [==============================] - 5s 47ms/step - loss: 0.3178 - accuracy: 0.8832 - val_loss: 0.3797 - val_accuracy: 0.8839\n",
      "Epoch 9/10\n",
      "112/112 [==============================] - 5s 47ms/step - loss: 0.2817 - accuracy: 0.9010 - val_loss: 0.2939 - val_accuracy: 0.8929\n",
      "Epoch 10/10\n",
      "112/112 [==============================] - 6s 49ms/step - loss: 0.2283 - accuracy: 0.9199 - val_loss: 0.2669 - val_accuracy: 0.9330\n",
      "224/224 [==============================] - 1s 4ms/step - loss: 0.2669 - accuracy: 0.9330\n",
      "Test accuracy: 0.9330357313156128\n"
     ]
    }
   ],
   "source": [
    "import os\n",
    "import numpy as np\n",
    "from tensorflow.keras.preprocessing.image import ImageDataGenerator\n",
    "from tensorflow.keras.models import Sequential\n",
    "from tensorflow.keras.layers import Conv2D, MaxPooling2D, Flatten, Dense, Dropout\n",
    "from tensorflow.keras.optimizers import Adam\n",
    "\n",
    "train_dir = '../../datasets/dataset2/train'\n",
    "test_dir = '../../datasets/dataset2/test'\n",
    "batch_size = 8\n",
    "img_height, img_width = 64, 64\n",
    "input_shape = (img_height, img_width, 3)\n",
    "\n",
    "# Define the data generators for training and testing\n",
    "train_datagen = ImageDataGenerator(rescale=1./255)\n",
    "\n",
    "test_datagen = ImageDataGenerator(rescale=1./255)\n",
    "\n",
    "train_generator = train_datagen.flow_from_directory(\n",
    "        train_dir, # path to the training dataset\n",
    "        target_size=(img_height, img_width), # resize images to this size\n",
    "        batch_size=batch_size,\n",
    "        class_mode='categorical') # output class labels as one-hot vectors\n",
    "\n",
    "test_generator = test_datagen.flow_from_directory(\n",
    "        test_dir,  # path to the testing dataset\n",
    "        target_size=(img_height, img_width),\n",
    "        batch_size=1, # batch size of 1 to test one image at a time\n",
    "        class_mode='categorical')\n",
    "\n",
    "# Define the model architecture\n",
    "model = Sequential()\n",
    "\n",
    "model.add(Conv2D(32, (3, 3), activation='relu', input_shape=input_shape))\n",
    "model.add(MaxPooling2D((2, 2)))\n",
    "model.add(Conv2D(64, (3, 3), activation='relu'))\n",
    "model.add(MaxPooling2D((2, 2)))\n",
    "model.add(Conv2D(128, (3, 3), activation='relu'))\n",
    "model.add(MaxPooling2D((2, 2)))\n",
    "model.add(Flatten())\n",
    "model.add(Dense(512, activation='relu'))\n",
    "model.add(Dropout(0.5))\n",
    "model.add(Dense(4, activation='softmax'))\n",
    "\n",
    "# Compile the model\n",
    "model.compile(loss='categorical_crossentropy',\n",
    "              optimizer=Adam(lr=1e-4),\n",
    "              metrics=['accuracy'])\n",
    "\n",
    "# Train the model\n",
    "history = model.fit(\n",
    "      train_generator,\n",
    "      steps_per_epoch=train_generator.samples/train_generator.batch_size,\n",
    "      epochs=10,\n",
    "      validation_data=test_generator,\n",
    "      validation_steps=test_generator.samples/test_generator.batch_size)\n",
    "\n",
    "# Evaluate the model on the test set\n",
    "test_loss, test_acc = model.evaluate(test_generator, steps=test_generator.samples/test_generator.batch_size)\n",
    "print('Test accuracy:', test_acc)\n"
   ]
  }
 ],
 "metadata": {
  "kernelspec": {
   "display_name": "Python 3",
   "language": "python",
   "name": "python3"
  },
  "language_info": {
   "codemirror_mode": {
    "name": "ipython",
    "version": 3
   },
   "file_extension": ".py",
   "mimetype": "text/x-python",
   "name": "python",
   "nbconvert_exporter": "python",
   "pygments_lexer": "ipython3",
   "version": "3.11.2"
  },
  "orig_nbformat": 4
 },
 "nbformat": 4,
 "nbformat_minor": 2
}
